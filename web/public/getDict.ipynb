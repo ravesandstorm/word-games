{
 "cells": [
  {
   "cell_type": "code",
   "execution_count": null,
   "id": "0d104bb4",
   "metadata": {
    "vscode": {
     "languageId": "plaintext"
    }
   },
   "outputs": [],
   "source": [
    "import itertools\n",
    "from nltk.corpus import wordnet\n",
    "\n",
    "nouns = sorted(list(set(\n",
    "            itertools.chain.from_iterable([n.replace('_', ' ') for n in synset.lemma_names()] for synset in wordnet.all_synsets('n'))\n",
    "        )), key=str.casefold)\n",
    "\n",
    "with open('nouns.txt', 'w', encoding='utf-8') as outfile:\n",
    "    print(*nouns, sep='\\n', file=outfile)"
   ]
  }
 ],
 "metadata": {
  "language_info": {
   "name": "python"
  }
 },
 "nbformat": 4,
 "nbformat_minor": 5
}
